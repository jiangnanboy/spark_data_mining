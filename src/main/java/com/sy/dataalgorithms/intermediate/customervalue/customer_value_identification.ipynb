{
 "cells": [
  {
   "cell_type": "code",
   "execution_count": 25,
   "metadata": {},
   "outputs": [
    {
     "name": "stdout",
     "output_type": "stream",
     "text": [
      "    recency  frequency  monetary  id\n",
      "0  0.664600   0.003601  0.016793   0\n",
      "1  0.107195   0.020758  0.023452   1\n"
     ]
    }
   ],
   "source": [
    "import numpy as np\n",
    "import pandas as pd\n",
    "\n",
    "#center为聚类中心\n",
    "center = np.array([[0.6646001408433307,0.003600813448012091,0.01679317521229563],\n",
    "                   [0.10719456205329142,0.020757763684444562,0.023451563060011567]])\n",
    "\n",
    "df = pd.DataFrame(center, columns=['recency', 'frequency', 'monetary'])\n",
    "df['id'] = [0,1] #为聚类类别号\n",
    "print(df)"
   ]
  },
  {
   "cell_type": "code",
   "execution_count": 29,
   "metadata": {},
   "outputs": [
    {
     "name": "stdout",
     "output_type": "stream",
     "text": [
      "0.38589735144831105 0.012179288566228326 0.020122369136153596\n"
     ]
    }
   ],
   "source": [
    "#求出中位数或均值\n",
    "rmd = df['recency'].median()\n",
    "fmd = df['frequency'].median()\n",
    "mmd = df['monetary'].median()\n",
    "print(rmd, fmd, mmd)"
   ]
  },
  {
   "cell_type": "code",
   "execution_count": 30,
   "metadata": {},
   "outputs": [
    {
     "name": "stdout",
     "output_type": "stream",
     "text": [
      "    recency  frequency  monetary  id  客户分类\n",
      "0  0.664600   0.003601  0.016793   0  一般客户\n",
      "1  0.107195   0.020758  0.023452   1  重要客户\n"
     ]
    }
   ],
   "source": [
    "# 标识客户类型\n",
    "customer_type = []\n",
    "for i in range(len(df)):\n",
    "    if df.iloc[i,0]<rmd and df.iloc[i,1]>=fmd and df.iloc[i,2]>=mmd:\n",
    "        customer_type.append('重要客户')\n",
    "    else:\n",
    "        customer_type.append('一般客户')\n",
    "\n",
    "# 添加标签\n",
    "df['客户分类'] = customer_type\n",
    "\n",
    "print(df)"
   ]
  },
  {
   "cell_type": "code",
   "execution_count": null,
   "metadata": {},
   "outputs": [],
   "source": []
  }
 ],
 "metadata": {
  "kernelspec": {
   "display_name": "Python 3",
   "language": "python",
   "name": "python3"
  },
  "language_info": {
   "codemirror_mode": {
    "name": "ipython",
    "version": 3
   },
   "file_extension": ".py",
   "mimetype": "text/x-python",
   "name": "python",
   "nbconvert_exporter": "python",
   "pygments_lexer": "ipython3",
   "version": "3.6.5"
  }
 },
 "nbformat": 4,
 "nbformat_minor": 2
}
